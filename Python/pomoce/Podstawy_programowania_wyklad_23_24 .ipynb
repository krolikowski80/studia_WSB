{
  "nbformat": 4,
  "nbformat_minor": 0,
  "metadata": {
    "colab": {
      "provenance": []
    },
    "kernelspec": {
      "name": "python3",
      "display_name": "Python 3"
    },
    "language_info": {
      "name": "python"
    }
  },
  "cells": [
    {
      "cell_type": "markdown",
      "source": [
        "Komentowanie linijek jest omijane przez interpreter - mamy dwie możliwości na dokonywanie komentarzy z jedną linijką i wieloma linijkami. Poniżej przykład:"
      ],
      "metadata": {
        "id": "gxYdNoStPqeY"
      }
    },
    {
      "cell_type": "code",
      "execution_count": null,
      "metadata": {
        "colab": {
          "base_uri": "https://localhost:8080/"
        },
        "id": "1y7J_3AJO-3f",
        "outputId": "c14c651d-f716-4eaa-e861-c0613d6aa5ac"
      },
      "outputs": [
        {
          "output_type": "stream",
          "name": "stdout",
          "text": [
            "2\n"
          ]
        }
      ],
      "source": [
        "# Single line comments start with a number symbol.\n",
        "# zakomentowana linijka nr 2\n",
        "# kolejny komentarz\n",
        "# ctrl + / zakomentowanie i odkomentowanie danej linijki\n",
        "\n",
        "\"\"\" Multiline strings can be written\n",
        "    using three \"s, and are often used\n",
        "    as documentation.\n",
        "\"\"\"\n",
        "\n",
        "x = 2\n",
        "print(x)"
      ]
    },
    {
      "cell_type": "markdown",
      "source": [
        "Podstawą w Python są obiekty, które mopgą być typu **int** - liczby całkowite oraz **float** zmiennoprzecinkowe oraz podstawowe operacje na nich.\n",
        "\n",
        "Dane w pamięci komputera są przechowywane jako ciąg zer oraz jedynek (bitów)\n",
        "8 bitów tworzy nam jeden bajt przykład ==> 0000 1011 ==> w zapisie binarnym liczba dziesiętna 11. Komputer zapisuje to jako False -> 0 oraz True -> 1\n",
        "\n",
        "W Python wersja 3 od wersji 3.4 int dostosowuje się do liczby to znaczy dopasowywuje liczbę bajtów potrzebnych do zapisu wartości, ale w wielu systemach zależnie od języka programowania są to wartości stałe w takim sensie że int może zajmować zawsze 4 bajty, albo 8 bajtów itd...\n",
        "\n",
        "7 to liczba całkowita typu int\n",
        "0111\n",
        "0 * 2^3 + 1 * 2^2 + 1 * 2^1 + 1 * 2^0\n",
        "\n",
        "Wystarczy zapamiętać że zapis float jest o wiele bardziej skomplikowany:\n",
        "\n",
        "7.0 to liczba typu float\n",
        "\n",
        "Jak jest zapisywany float. Za pomocą cechy i mantysy i jednego bitu znaku:\n",
        "\n",
        "ZNAK * mantysa * 2^cecha\n",
        "\n",
        "dla liczby 9.625 w notacji naukowej systemie 10-tnym 0.9625 * 10^1\n",
        "\n",
        "**WNIOSEK:**\n",
        "\n",
        "Przykładem jest liczba 1/3\n",
        "\n",
        "1/3 = 0.333333333... nie możemy zapisać nieskończoności w pamięci komputera\n",
        "\n",
        "Jednak w pamięci komputera nie można zapisać tej wartośći w sposób doładny.\n",
        "\n",
        "Jej zapis zawsze będzie się wiązał z **tzw. błędem numerycznym**"
      ],
      "metadata": {
        "id": "yX6WoXGJPoBM"
      }
    },
    {
      "cell_type": "code",
      "source": [
        "# You have numbers\n",
        "3  # => 3 - są towartości stałe, czyli poprostu liczby\n",
        "\n",
        "# Math is what you would expect\n",
        "1 + 1   # => 2\n",
        "8 - 1   # => 7\n",
        "10 * 2  # => 20\n",
        "35 / 5  # => 7.0 **UWAGA** bo my dzielimy tutaj dwie wartości całkowitoliczbowe.\n",
        "# Wyżej wykonywaliśmy obliczenia również na takich liczbach, ale cco się okazuje.\n",
        "# Bo tutaj wynik  jest float, a powyżej był wynik typu int\n",
        "40 / 5\n"
      ],
      "metadata": {
        "colab": {
          "base_uri": "https://localhost:8080/"
        },
        "id": "XJnw--8xQ7z5",
        "outputId": "78086166-c0bb-4405-d289-f6f8fe541bbf"
      },
      "execution_count": null,
      "outputs": [
        {
          "output_type": "execute_result",
          "data": {
            "text/plain": [
              "8.0"
            ]
          },
          "metadata": {},
          "execution_count": 37
        }
      ]
    },
    {
      "cell_type": "markdown",
      "source": [
        "Dzielenie liczb całkowitych (//) zaokrągla w dół zarówno liczby dodatnie, jak i ujemne."
      ],
      "metadata": {
        "id": "gPMAhLxDSQn6"
      }
    },
    {
      "cell_type": "code",
      "source": [
        "5 // 3       # => 1 dlatego że 1 całych i 2 reszzty - reszt jest tracona\n",
        "-5 // 3      # => -2 dlatego że -1 całych i 2 reszty - ze względu na zaokrąglenie w dół uzyskujemy -2\n",
        "5.0 // 3.0   # => 1.0 # works on floats too - operator dzielenia całkowitoliczbowego działa równineż na liczbach typu float\n",
        "-5.0 // 3.0  # => -2.0\n",
        "-5 // 3.0    # => -2.0 wystarczy że jedna liczba dzielna lub dzielnik jest typu float aby wynik również był float\n",
        "-5.0 // 3    # => -2.0"
      ],
      "metadata": {
        "colab": {
          "base_uri": "https://localhost:8080/"
        },
        "id": "NqS-IIwiSW7p",
        "outputId": "4ef99a12-c255-4575-a754-f52338571d08"
      },
      "execution_count": null,
      "outputs": [
        {
          "output_type": "execute_result",
          "data": {
            "text/plain": [
              "-2.0"
            ]
          },
          "metadata": {},
          "execution_count": 21
        }
      ]
    },
    {
      "cell_type": "markdown",
      "source": [
        "Przyjrzyjmy się zwyczajnemu dzieleniu:"
      ],
      "metadata": {
        "id": "yHEyBjL1TRgH"
      }
    },
    {
      "cell_type": "code",
      "source": [
        "# The result of division is always a float\n",
        "10.0 / 3  # => 3.3333333333333335 - szczególna uwaga to ostatnia wyświetlana cyfra. Dlaczego tak się dzieje? Wartość 5 pojawia się ze względu na błąd numeryczny w zapisie liczb typu float\n",
        "# porównywanie dwóch liczb typu float nie jest zadaniem trywialnym, gdy mamy wartości bardzo bliskie sobie, np.:\n",
        "# x = 3.3333333333333335\n",
        "# y = 3.3333333333333334\n",
        "# Czy te dwie liczby są sobie równe? Pierwsza nasza odpowiedź brzmi że nie, ale teraz wiedząc że są to wyniki pewnych bardziej złożonych operacji, to pojawia się pytanie ale czy na pewno?\n",
        "# Być może mamy do czynienia z błęden numerycznym\n",
        "# tak więc x < y => to Prawda czy Fałsz?\n",
        "# tak więc x > y => to Prawda czy Fałsz?\n",
        "# tak więc x == y => to Prawda czy Fałsz?\n",
        "# Musimy być ostrożni!!! Błędem numerycznym\n",
        "\n",
        "print(100/3)"
      ],
      "metadata": {
        "colab": {
          "base_uri": "https://localhost:8080/"
        },
        "id": "0Fyt6xBYTMlR",
        "outputId": "efa6b031-66ee-406a-f1b5-85a52ddbb263"
      },
      "execution_count": null,
      "outputs": [
        {
          "output_type": "stream",
          "name": "stdout",
          "text": [
            "33.333333333333336\n"
          ]
        }
      ]
    },
    {
      "cell_type": "markdown",
      "source": [],
      "metadata": {
        "id": "xVZx1QfqvwRY"
      }
    },
    {
      "cell_type": "code",
      "source": [
        "# Modulo operation - reszta z dzielenia\n",
        "7 % 3   # => 1 sieden dzielone na 3 daje nam wynik 2 całe oraz 1 reszta. Operacja modulo zwraca resztę\n",
        "# i % j have the same sign as j, unlike C\n",
        "-7 % 3  # => 2 - w skrócie dopełnienie do dzielnika\n",
        "-11 % 5 # wynik to 2 całe oraz -1 reszty, ale zapisujemy to na plusie w jaki sposób dzielnik -1 reszty = reszte 4\n",
        "\n",
        "# Exponentiation (x**y, x to the yth power)\n",
        "2**3  # => 8 --> w innych językach 2 ^ 3, czyli dwa do potęgi trzeciej\n",
        "\n",
        "# Enforce precedence with parentheses\n",
        "1 + 3 * 2    # => 7 kolejność operacji zgodna z regułami matematyki, pierw mnożenie a potem dodawanie\n",
        "(1 + 3) * 2  # => 8 kolejność zgodna z nawiasami\n",
        "\n",
        "# Boolean values are primitives (Note: the capitalization)\n",
        "True   # => True zapisujemy z wielkiej litery\n",
        "False  # => False\n",
        "\n"
      ],
      "metadata": {
        "colab": {
          "base_uri": "https://localhost:8080/"
        },
        "id": "1APk_Yqsfoqk",
        "outputId": "b6de7e7f-bfff-4116-aaba-fbd067065044"
      },
      "execution_count": null,
      "outputs": [
        {
          "output_type": "execute_result",
          "data": {
            "text/plain": [
              "False"
            ]
          },
          "metadata": {},
          "execution_count": 47
        }
      ]
    },
    {
      "cell_type": "code",
      "source": [
        "# negate with not - not jest opeartorem negacji\n",
        "not True   # => False\n",
        "not False  # => True\n",
        "\n",
        "# Boolean Operators - algebry Boole'a\n",
        "# Note \"and\" and \"or\" are case-sensitive\n",
        "True and False  # => False --> and tylko dla dwóch wartości True da wartość True a w przeciwnym wypadku da False\n",
        "False or True   # => True --> or tylko dla dwóch wartości False dostaniemy False w przeciwnym wypadku zawsze jest prawda\n",
        "\n",
        "# True and False are actually 1 and 0 but with different keywords\n",
        "True + True # => 2 True jest traktowane jako logiczna jedynka, a False jako logiczne zero\n",
        "True * 8    # => 8\n",
        "False - 5   # => -5\n",
        "\n",
        "# Comparison operators look at the numerical value of True and False\n",
        "0 == False  # => True porównanie zera i Flase da nam True, zapytanie czy 0 i False są sobie równe\n",
        "2 > True    # => True\n",
        "2 == True   # => False\n",
        "-5 != False # => True != to jest znacznik oznaczający różne czyli pytanie czy -5 oraz Ffalse, czyli zero są różne i odpowiedź brzmi TAK, czyli True\n",
        "\n",
        "# None, 0, and empty strings/lists/dicts/tuples/sets all evaluate to False.\n",
        "# All other values are True\n",
        "bool(0)     # => False Rzutowanie na zmienną logiczną bool()\n",
        "bool(\"\")    # => False\n",
        "bool([])    # => False\n",
        "bool({})    # => False\n",
        "bool(())    # => False\n",
        "bool(set()) # => False WNIOSEK: każdy pusta strukturaa danych jest traktowana jako logiczny False\n",
        "bool(4)     # => True każda liczba dodatnia lub ujemna jest traktowana jako True\n",
        "bool(-6)    # => True\n",
        "\n",
        "# Using boolean logical operators on ints casts them to booleans for evaluation,\n",
        "# but their non-cast value is returned. Don't mix up with bool(ints) and bitwise\n",
        "# and/or (&,|)\n",
        "bool(0)     # => False\n",
        "bool(2)     # => True\n",
        "0 and 2     # => 0  --> and zwraca nam zero jeżeli jest jednym z argumentów albo tę drugą liczbę\n",
        "1 and 2     # => 2\n",
        "3 and -22     # => -22\n",
        "-11 and 5     # => 5\n",
        "bool(-5)    # => True\n",
        "bool(2)     # => True\n",
        "-5 or 0     # => -5  --> or zwraca nam wartość niebędącą zerem jeżeli są dwa takie argumenty to zwroci tę pierwszą liczbę\n",
        "5 or 3     # => 5\n",
        "7 or 33     # => 7\n",
        "\n",
        "# Equality is ==\n",
        "1 == 1  # => True operator porównania dwóch liczb\n",
        "2 == 1  # => False\n",
        "\n",
        "# Inequality is != operator czy dwie liczby są sobie różne\n",
        "1 != 1  # => False\n",
        "2 != 1  # => True\n",
        "\n",
        "# More comparisons\n",
        "1 < 10  # => True mniejsze\n",
        "1 > 10  # => False większe\n",
        "2 <= 2  # => True mniejsze lub równe UWAGA nie zadziała =< kolejność musi być prawidłowa, czyli: <=\n",
        "2 >= 2  # => True większe lub równe\n",
        "\n",
        "# Seeing whether a value is in a range\n",
        "1 < 2 and 2 < 3  # => True -> True and True\n",
        "2 < 3 and 3 < 2  # => False -> True and False\n",
        "# Chaining makes this look nicer skrócony zapis tego co na górze - ttypowe dla Pythona\n",
        "1 < 2 < 3  # => True\n",
        "2 < 3 < 2  # => False\n",
        "\n",
        "# (is vs. ==) is checks if two variables refer to the same object, but == checks\n",
        "# if the objects pointed to have the same values.\n",
        "a = [1, 2, 3, 4]  # Point a at a new list, [1, 2, 3, 4] nawais kwadratowy, tworzymy sobie listę\n",
        "b = a             # Point b at what a is pointing to -> a i b wskazuje na ten sam obiekt na listę ktora jest zapisana w tym samym miejscu pamieci komputera\n",
        "b is a            # => True, a and b refer to the same object tak a i b odwołuje się do tego samego obiektu\n",
        "b == a            # => True, a's and b's objects are equal - tutaj porównujemy tylko wartości, ale to te same wartości\n",
        "b = [1, 2, 3, 4]  # Point b at a new list, [1, 2, 3, 4] - zapisujemy w iinnym mmiejscu pamieci liste [1, 2, 3, 4]\n",
        "b is a            # => False, a and b do not refer to the same object ze zmienna a i b nie są tym samym obiektem\n",
        "b == a            # => True, a's and b's objects are equal -  że w dalszym ciągu są to te same wartości\n",
        "\n",
        "# Strings are created with \" or '\n",
        "\"This is a string.\"\n",
        "'This is also a string.'\n",
        "# nie zadziała coś takiego jak: \"kot'\n",
        "# ale to się wyświetli  -> kot'\n",
        "\n",
        "\n",
        "# Strings can be added too - konkatenacja UWAGA!!!!!!!!!!!!!!!!!!!!!!!!!!!!!!!!!!!!!!!!!!!!!!!!!!!!!!!!!!!!!!!!!!  łączenie dwóch ciągów\n",
        "\"Hello \" + \"world!\"  # => \"Hello world!\" czyli w tym wypadku połączenie dwóch stringów\n",
        "# String literals (but not variables) can be concatenated without using '+'\n",
        "\"Hello \" \"world!\"    # => \"Hello world!\" - tylko dla stalych stringów, a nie dla zmiennych mozna dokonac konkatenacji bez znaku plus\n",
        "\n",
        "# A string can be treated like a list of characters - w tym naawiasie podajemy numer indeksu\n",
        "\"Hello world!\"[0]  # => 'H' -> string jest traktowany jako listy\n",
        "\"Hello world!\"[1]  # => 'e' -> string jest traktowany jako listy\n",
        "\"Hello world!\"[2]  # => 'l' -> string jest traktowany jako listy\n",
        "\"Hello world!\"[3]  # => 'l' -> string jest traktowany jako listy\n",
        "\"Hello world!\"[4]  # => '0' -> string jest traktowany jako listy\n",
        "\"Hello world!\"[5]  # => ' ' -> string jest traktowany jako listy\n",
        "\"Hello world!\"[6]  # => 'w' -> string jest traktowany jako listy\n",
        "\"Hello world!\"[7]  # => 'o' -> string jest traktowany jako listy\n",
        "\n",
        "\n",
        "# You can find the length of a string len zwraca długość naszej listy/stringa\n",
        "len(\"This is a string\")  # => 16\n",
        "\n",
        "################################################################# ODTĄD ZACZYNAMY KOLEJNY WYKŁAD\n",
        "\n"
      ],
      "metadata": {
        "colab": {
          "base_uri": "https://localhost:8080/"
        },
        "id": "YFazLt-YhgRu",
        "outputId": "69132854-ea3c-48d1-9bd8-f748af17e097"
      },
      "execution_count": null,
      "outputs": [
        {
          "output_type": "execute_result",
          "data": {
            "text/plain": [
              "16"
            ]
          },
          "metadata": {},
          "execution_count": 61
        }
      ]
    },
    {
      "cell_type": "code",
      "source": [
        "# Since Python 3.6, you can use f-strings or formatted string literals.\n",
        "name = \"Reiko\"\n",
        "f\"She said her name is {name}.\" # => \"She said her name is Reiko\"\n",
        "# Any valid Python expression inside these braces is returned to the string.\n",
        "f\"{name} is {len(name)} characters long.\" # => \"Reiko is 5 characters long.\"\n",
        "\n",
        "# None is an object\n",
        "None  # => None\n",
        "\n",
        "# Don't use the equality \"==\" symbol to compare objects to None\n",
        "# Use \"is\" instead. This checks for equality of object identity.\n",
        "\"etc\" is None  # => False\n",
        "None is None   # => True\n"
      ],
      "metadata": {
        "id": "b6gUTr0Pm6m1"
      },
      "execution_count": null,
      "outputs": []
    },
    {
      "cell_type": "markdown",
      "source": [
        "**Wykład nr 2**"
      ],
      "metadata": {
        "id": "UUnZXpS7vyAf"
      }
    },
    {
      "cell_type": "code",
      "source": [
        "x = 0.1 + 0.2\n",
        "print(x)\n",
        "if x == 0.3:\n",
        "  print(\"zmienna x wynosi 0.3\")\n",
        "else:\n",
        "  print(\"zmienna x nie wynosi 0.3\")\n",
        "\n",
        "# pętle for\n",
        "for i  in range(10):# i = 0,1,2...9\n",
        "  print(i)\n",
        "print(\"############################\")\n",
        "for i  in range(4, 10):# i = 4,5,6...9\n",
        "  print(i)\n",
        "print(\"############################\")\n",
        "for i  in range(2, 10,2):# i = 2,4,6,8\n",
        "  print(i)\n",
        "print(\"############################\")\n",
        "for i  in range(10, -2,-2):# i = 10,8,...0\n",
        "  print(i)\n",
        "print(\"############################\")\n",
        "# for i  in range(0, 10, 0.1):# teoretycznie i = 0, 0.1, 0.2 ... 9.8, 9.9  KROK nie może być floatem musi być intem\n",
        "#   print(i)"
      ],
      "metadata": {
        "colab": {
          "base_uri": "https://localhost:8080/",
          "height": 783
        },
        "id": "rBnvwWg6v2VZ",
        "outputId": "6ca87ff7-d7fc-405d-da3f-cb672105167e"
      },
      "execution_count": null,
      "outputs": [
        {
          "output_type": "stream",
          "name": "stdout",
          "text": [
            "0.30000000000000004\n",
            "zmienna x nie wynosi 0.3\n",
            "0\n",
            "1\n",
            "2\n",
            "3\n",
            "4\n",
            "5\n",
            "6\n",
            "7\n",
            "8\n",
            "9\n",
            "############################\n",
            "4\n",
            "5\n",
            "6\n",
            "7\n",
            "8\n",
            "9\n",
            "############################\n",
            "2\n",
            "4\n",
            "6\n",
            "8\n",
            "############################\n",
            "10\n",
            "8\n",
            "6\n",
            "4\n",
            "2\n",
            "0\n",
            "############################\n"
          ]
        },
        {
          "output_type": "error",
          "ename": "TypeError",
          "evalue": "ignored",
          "traceback": [
            "\u001b[0;31m---------------------------------------------------------------------------\u001b[0m",
            "\u001b[0;31mTypeError\u001b[0m                                 Traceback (most recent call last)",
            "\u001b[0;32m<ipython-input-10-68c9f639580a>\u001b[0m in \u001b[0;36m<cell line: 21>\u001b[0;34m()\u001b[0m\n\u001b[1;32m     19\u001b[0m   \u001b[0mprint\u001b[0m\u001b[0;34m(\u001b[0m\u001b[0mi\u001b[0m\u001b[0;34m)\u001b[0m\u001b[0;34m\u001b[0m\u001b[0;34m\u001b[0m\u001b[0m\n\u001b[1;32m     20\u001b[0m \u001b[0mprint\u001b[0m\u001b[0;34m(\u001b[0m\u001b[0;34m\"############################\"\u001b[0m\u001b[0;34m)\u001b[0m\u001b[0;34m\u001b[0m\u001b[0;34m\u001b[0m\u001b[0m\n\u001b[0;32m---> 21\u001b[0;31m \u001b[0;32mfor\u001b[0m \u001b[0mi\u001b[0m  \u001b[0;32min\u001b[0m \u001b[0mrange\u001b[0m\u001b[0;34m(\u001b[0m\u001b[0;36m0\u001b[0m\u001b[0;34m,\u001b[0m \u001b[0;36m10\u001b[0m\u001b[0;34m,\u001b[0m \u001b[0;36m0.1\u001b[0m\u001b[0;34m)\u001b[0m\u001b[0;34m:\u001b[0m\u001b[0;31m# teoretycznie i = 0, 0.1, 0.2 ... 9.8, 9.9\u001b[0m\u001b[0;34m\u001b[0m\u001b[0;34m\u001b[0m\u001b[0m\n\u001b[0m\u001b[1;32m     22\u001b[0m   \u001b[0mprint\u001b[0m\u001b[0;34m(\u001b[0m\u001b[0mi\u001b[0m\u001b[0;34m)\u001b[0m\u001b[0;34m\u001b[0m\u001b[0;34m\u001b[0m\u001b[0m\n",
            "\u001b[0;31mTypeError\u001b[0m: 'float' object cannot be interpreted as an integer"
          ]
        }
      ]
    },
    {
      "cell_type": "code",
      "source": [
        "lista = [ 2, 3.1, \"dom\", 'tata', -1, \"-1\", 2**0.5]\n",
        "print(lista)\n",
        "i = 0\n",
        "for x in lista:\n",
        "  print(f\"Element numer {i} w liscie to: {lista[i]} {x}\")\n",
        "  i += 1\n",
        "\n",
        "for x in lista:\n",
        "  print(f\"Element w liscie to: {x} i jest on typu {type(x)}\")\n",
        "\n",
        "\n",
        "for i in range(len(lista)):\n",
        "  print(f\"Element numer {i} w liscie to: {lista[i]}\")\n",
        "\n",
        "li = []\n",
        "for i in range(5):\n",
        "  li.append(i)\n",
        "print(li)\n",
        "\n",
        "print([x**2 for x in li])\n",
        "\n",
        "a = [i for i in range(10)]\n",
        "print(a)"
      ],
      "metadata": {
        "colab": {
          "base_uri": "https://localhost:8080/"
        },
        "id": "i6--81YsyG7r",
        "outputId": "a2662d8a-2f0d-4eb1-b76b-e05d9bff831f"
      },
      "execution_count": null,
      "outputs": [
        {
          "output_type": "stream",
          "name": "stdout",
          "text": [
            "[2, 3.1, 'dom', 'tata', -1, '-1', 1.4142135623730951]\n",
            "Element numer 0 w liscie to: 2 2\n",
            "Element numer 1 w liscie to: 3.1 3.1\n",
            "Element numer 2 w liscie to: dom dom\n",
            "Element numer 3 w liscie to: tata tata\n",
            "Element numer 4 w liscie to: -1 -1\n",
            "Element numer 5 w liscie to: -1 -1\n",
            "Element numer 6 w liscie to: 1.4142135623730951 1.4142135623730951\n",
            "Element w liscie to: 2 i jest on typu <class 'int'>\n",
            "Element w liscie to: 3.1 i jest on typu <class 'float'>\n",
            "Element w liscie to: dom i jest on typu <class 'str'>\n",
            "Element w liscie to: tata i jest on typu <class 'str'>\n",
            "Element w liscie to: -1 i jest on typu <class 'int'>\n",
            "Element w liscie to: -1 i jest on typu <class 'str'>\n",
            "Element w liscie to: 1.4142135623730951 i jest on typu <class 'float'>\n",
            "Element numer 0 w liscie to: 2\n",
            "Element numer 1 w liscie to: 3.1\n",
            "Element numer 2 w liscie to: dom\n",
            "Element numer 3 w liscie to: tata\n",
            "Element numer 4 w liscie to: -1\n",
            "Element numer 5 w liscie to: -1\n",
            "Element numer 6 w liscie to: 1.4142135623730951\n",
            "[0, 1, 2, 3, 4]\n",
            "[0, 1, 4, 9, 16]\n",
            "[0, 1, 2, 3, 4, 5, 6, 7, 8, 9]\n"
          ]
        }
      ]
    },
    {
      "cell_type": "code",
      "source": [
        "# pętla while\n",
        "\n",
        "li = [i for i in range(10)]\n",
        "kwadrat = []\n",
        "\n",
        "i = 0\n",
        "while i < len(li): # while WARUNEK\n",
        "  kwadrat.append(li[i]**2)\n",
        "  i += 1\n",
        "\n",
        "print(kwadrat)\n",
        "print([x**2 for x in li])\n",
        "\n",
        "kwadrat = []\n",
        "i = 0\n",
        "while True: # while WARUNEK\n",
        "  if i<len(li):\n",
        "    kwadrat.append(li[i]**2)\n",
        "    i += 1# i = i + 1\n",
        "  else:\n",
        "    break\n",
        "\n",
        "print(kwadrat)\n",
        "\n",
        "text = \"Ola ma kota. Ala ma też.\"\n",
        "szyfrogram = []\n",
        "key = 3\n",
        "\n",
        "#szyfrowanie\n",
        "for znak in text:\n",
        "  tmp = ord(znak)                   # zamiana pojedynczego znaku na wartosc unicode\n",
        "  tmp = tmp + key                   # przesuniecie o wartosc klucza\n",
        "  tmp = chr(tmp)                    # zamiaan z powrotem na pojedynczy znak\n",
        "  szyfrogram.append(tmp)\n",
        "print(text)\n",
        "print(szyfrogram)\n",
        "print(f\"Szyfrogram: {''.join(szyfrogram)}\")\n",
        "\n",
        "print(ord('a'), ord(\"ą\"))\n",
        "\n",
        "for i in range(60):\n",
        "  znak = chr(ord(\".\") + i)\n",
        "  print(f\"Dla znaku: {znak} wartość unicode wynosi: {ord(znak)}\")\n",
        "\n",
        "wiadomosc = []\n",
        "#deszyfrowanie\n",
        "for znak in szyfrogram:\n",
        "  tmp = ord(znak)                   # zamiana pojedynczego znaku na wartosc unicode\n",
        "  tmp = tmp - key                   # przesuniecie o wartosc klucza\n",
        "  tmp = chr(tmp)                    # zamiaan z powrotem na pojedynczy znak\n",
        "  wiadomosc.append(tmp)\n",
        "print(text)\n",
        "print(wiadomosc)\n",
        "print(f\"Wiadomość jawna: {''.join(wiadomosc)}\")\n",
        "\n"
      ],
      "metadata": {
        "colab": {
          "base_uri": "https://localhost:8080/"
        },
        "id": "kEi-qkMb0Jac",
        "outputId": "6d425dee-9455-4f68-97e9-4531e995ac27"
      },
      "execution_count": null,
      "outputs": [
        {
          "output_type": "stream",
          "name": "stdout",
          "text": [
            "[0, 1, 4, 9, 16, 25, 36, 49, 64, 81]\n",
            "[0, 1, 4, 9, 16, 25, 36, 49, 64, 81]\n",
            "[0, 1, 4, 9, 16, 25, 36, 49, 64, 81]\n",
            "Ola ma kota. Ala ma też.\n",
            "['R', 'o', 'd', '#', 'p', 'd', '#', 'n', 'r', 'w', 'd', '1', '#', 'D', 'o', 'd', '#', 'p', 'd', '#', 'w', 'h', 'ſ', '1']\n",
            "Szyfrogram: Rod#pd#nrwd1#Dod#pd#whſ1\n",
            "97 261\n",
            "Dla znaku: . wartość unicode wynosi: 46\n",
            "Dla znaku: / wartość unicode wynosi: 47\n",
            "Dla znaku: 0 wartość unicode wynosi: 48\n",
            "Dla znaku: 1 wartość unicode wynosi: 49\n",
            "Dla znaku: 2 wartość unicode wynosi: 50\n",
            "Dla znaku: 3 wartość unicode wynosi: 51\n",
            "Dla znaku: 4 wartość unicode wynosi: 52\n",
            "Dla znaku: 5 wartość unicode wynosi: 53\n",
            "Dla znaku: 6 wartość unicode wynosi: 54\n",
            "Dla znaku: 7 wartość unicode wynosi: 55\n",
            "Dla znaku: 8 wartość unicode wynosi: 56\n",
            "Dla znaku: 9 wartość unicode wynosi: 57\n",
            "Dla znaku: : wartość unicode wynosi: 58\n",
            "Dla znaku: ; wartość unicode wynosi: 59\n",
            "Dla znaku: < wartość unicode wynosi: 60\n",
            "Dla znaku: = wartość unicode wynosi: 61\n",
            "Dla znaku: > wartość unicode wynosi: 62\n",
            "Dla znaku: ? wartość unicode wynosi: 63\n",
            "Dla znaku: @ wartość unicode wynosi: 64\n",
            "Dla znaku: A wartość unicode wynosi: 65\n",
            "Dla znaku: B wartość unicode wynosi: 66\n",
            "Dla znaku: C wartość unicode wynosi: 67\n",
            "Dla znaku: D wartość unicode wynosi: 68\n",
            "Dla znaku: E wartość unicode wynosi: 69\n",
            "Dla znaku: F wartość unicode wynosi: 70\n",
            "Dla znaku: G wartość unicode wynosi: 71\n",
            "Dla znaku: H wartość unicode wynosi: 72\n",
            "Dla znaku: I wartość unicode wynosi: 73\n",
            "Dla znaku: J wartość unicode wynosi: 74\n",
            "Dla znaku: K wartość unicode wynosi: 75\n",
            "Dla znaku: L wartość unicode wynosi: 76\n",
            "Dla znaku: M wartość unicode wynosi: 77\n",
            "Dla znaku: N wartość unicode wynosi: 78\n",
            "Dla znaku: O wartość unicode wynosi: 79\n",
            "Dla znaku: P wartość unicode wynosi: 80\n",
            "Dla znaku: Q wartość unicode wynosi: 81\n",
            "Dla znaku: R wartość unicode wynosi: 82\n",
            "Dla znaku: S wartość unicode wynosi: 83\n",
            "Dla znaku: T wartość unicode wynosi: 84\n",
            "Dla znaku: U wartość unicode wynosi: 85\n",
            "Dla znaku: V wartość unicode wynosi: 86\n",
            "Dla znaku: W wartość unicode wynosi: 87\n",
            "Dla znaku: X wartość unicode wynosi: 88\n",
            "Dla znaku: Y wartość unicode wynosi: 89\n",
            "Dla znaku: Z wartość unicode wynosi: 90\n",
            "Dla znaku: [ wartość unicode wynosi: 91\n",
            "Dla znaku: \\ wartość unicode wynosi: 92\n",
            "Dla znaku: ] wartość unicode wynosi: 93\n",
            "Dla znaku: ^ wartość unicode wynosi: 94\n",
            "Dla znaku: _ wartość unicode wynosi: 95\n",
            "Dla znaku: ` wartość unicode wynosi: 96\n",
            "Dla znaku: a wartość unicode wynosi: 97\n",
            "Dla znaku: b wartość unicode wynosi: 98\n",
            "Dla znaku: c wartość unicode wynosi: 99\n",
            "Dla znaku: d wartość unicode wynosi: 100\n",
            "Dla znaku: e wartość unicode wynosi: 101\n",
            "Dla znaku: f wartość unicode wynosi: 102\n",
            "Dla znaku: g wartość unicode wynosi: 103\n",
            "Dla znaku: h wartość unicode wynosi: 104\n",
            "Dla znaku: i wartość unicode wynosi: 105\n",
            "Ola ma kota. Ala ma też.\n",
            "['O', 'l', 'a', ' ', 'm', 'a', ' ', 'k', 'o', 't', 'a', '.', ' ', 'A', 'l', 'a', ' ', 'm', 'a', ' ', 't', 'e', 'ż', '.']\n",
            "Wiadomość jawna: Ola ma kota. Ala ma też.\n"
          ]
        }
      ]
    },
    {
      "cell_type": "code",
      "source": [
        "# Funkcje do szyforwania i deszyfrowania szyfru Cezara\n",
        "\n",
        "def szyfrowanie_szyfr_cezara(tekst_jawny, key):\n",
        "  szyfrogram = ''\n",
        "  for znak in tekst_jawny:\n",
        "    tmp = ord(znak)                   # zamiana pojedynczego znaku na wartosc unicode\n",
        "    tmp = tmp + key                   # przesuniecie o wartosc klucza\n",
        "    tmp = chr(tmp)                    # zamiaan z powrotem na pojedynczy znak\n",
        "    szyfrogram = szyfrogram + tmp\n",
        "  return szyfrogram\n",
        "\n",
        "def deszyfrowanie_szyfr_cezara(szyfrogram, key):\n",
        "  tekst_jawny = ''\n",
        "  for znak in szyfrogram:\n",
        "    tmp = ord(znak)                   # zamiana pojedynczego znaku na wartosc unicode\n",
        "    tmp = tmp - key                   # przesuniecie o wartosc klucza\n",
        "    tmp = chr(tmp)                    # zamiaan z powrotem na pojedynczy znak\n",
        "    tekst_jawny = tekst_jawny + tmp\n",
        "  return tekst_jawny\n",
        "\n",
        "\n",
        "text = \"Ola ma kota. Ala ma też.\"\n",
        "klucz = 400\n",
        "wiadomosc_zaszyfrowana = szyfrowanie_szyfr_cezara(text, klucz)\n",
        "print(wiadomosc_zaszyfrowana)\n",
        "wiadomosc_jawna = deszyfrowanie_szyfr_cezara(wiadomosc_zaszyfrowana, klucz)\n",
        "print(wiadomosc_jawna)\n",
        "print(\"########################################\")\n",
        "\n",
        "def sprawdz_alfabet(zdanie, start='A', koniec='z'): #funkcja sprawdzająca czyt wszystkie znaki są w zadanym zakresie alfabetu\n",
        "  for znak in zdanie:\n",
        "    if ord(start) > ord(znak) or ord(znak) > ord(koniec):\n",
        "      return False\n",
        "  return True\n",
        "\n",
        "\n",
        "def atak_metoda_brutalna(wiadomosc):\n",
        "  liczba = 0\n",
        "  for i in range(1000):\n",
        "    try:\n",
        "      tmp = deszyfrowanie_szyfr_cezara(wiadomosc, i)\n",
        "    except ValueError:\n",
        "      # print(\"Wystąpił wyjątek oznacza, że przekroczyliśmy wartości w tablicy Unicode\")\n",
        "      pass\n",
        "    else:\n",
        "      liczba += 1\n",
        "      if sprawdz_alfabet(tmp, ' ', 'ż'):\n",
        "        print(tmp)\n",
        "    finally:\n",
        "      pass\n",
        "  return liczba\n",
        "\n",
        "\n",
        "atak_metoda_brutalna(wiadomosc_zaszyfrowana)\n",
        "# sprawdz_alfabet(text, ' ', 'ż')\n",
        "atak_metoda_brutalna(szyfrowanie_szyfr_cezara('Tata ma kaca :)', 13))"
      ],
      "metadata": {
        "colab": {
          "base_uri": "https://localhost:8080/"
        },
        "id": "eHyDOerM8Myw",
        "outputId": "fca78a93-ddaa-4e5b-b896-05c3d8ccdb2a"
      },
      "execution_count": null,
      "outputs": [
        {
          "output_type": "stream",
          "name": "stdout",
          "text": [
            "ǟǼǱưǽǱưǻǿȄǱƾưǑǼǱưǽǱưȄǵ̌ƾ\n",
            "Ola ma kota. Ala ma też.\n",
            "########################################\n",
            "Ola ma kota. Ala ma też.\n",
            "ann-zn-xnpn-G6\n",
            "`mm,ym,wmom,F5\n",
            "_ll+xl+vlnl+E4\n",
            "^k~k*wk*ukmk*D3\n",
            "]j}j)vj)tjlj)C2\n",
            "\\i|i(ui(siki(B1\n",
            "[h{h'th'rhjh'A0\n",
            "Zgzg&sg&qgig&@/\n",
            "Yfyf%rf%pfhf%?.\n",
            "Xexe$qe$oege$>-\n",
            "Wdwd#pd#ndfd#=,\n",
            "Vcvc\"oc\"mcec\"<+\n",
            "Ubub!nb!lbdb!;*\n",
            "Tata ma kaca :)\n"
          ]
        },
        {
          "output_type": "execute_result",
          "data": {
            "text/plain": [
              "46"
            ]
          },
          "metadata": {},
          "execution_count": 102
        }
      ]
    },
    {
      "cell_type": "code",
      "source": [
        "# def capital_indexes(a):\n",
        "#     lista = []\n",
        "#     i = 0\n",
        "#     for z in a:\n",
        "#         if 'A'<=z<='Z':\n",
        "#             lista.append(i)\n",
        "#         i += 1\n",
        "#     return lista\n",
        "\n",
        "\n",
        "def capital_indexes(s):\n",
        "  upper = \"ABCDEFGHIJKLMNOPQRSTUVWXYZ\"\n",
        "  return [i for i in range(len(s)) if s[i] in upper]\n",
        "\n",
        "text = \"Ola ma kota. Ala ma też.\"\n",
        "\n",
        "capital_indexes(text)\n",
        "\n",
        "\n",
        "def capital_indexes(a):\n",
        "    lista = []\n",
        "    i = 0\n",
        "    for z in a:\n",
        "        if z.isupper():\n",
        "            lista.append(i)\n",
        "        i += 1\n",
        "    return lista\n",
        "\n",
        "a = \"TaTa\"\n",
        "capital_indexes(a)\n",
        "\n",
        "\n",
        "# więcej: https://pythonprinciples.com/challenges/\n",
        "# https://edabit.com/challenges/python3\n",
        "# Ciekawe ale nie do konca to co chcemy: https://www.101computing.net/python-turtle-building-a-castle/\n",
        "# https://www.hackerrank.com/domains/python\n",
        "# Codewars.com\n",
        "# https://projecteuler.net/"
      ],
      "metadata": {
        "colab": {
          "base_uri": "https://localhost:8080/"
        },
        "id": "k7n_gSdNHmfh",
        "outputId": "4fc614d1-0589-4246-d682-3e1d57cbcdc2"
      },
      "execution_count": null,
      "outputs": [
        {
          "output_type": "execute_result",
          "data": {
            "text/plain": [
              "[0, 2]"
            ]
          },
          "metadata": {},
          "execution_count": 105
        }
      ]
    },
    {
      "cell_type": "code",
      "source": [
        "def fun(n):\n",
        "  lista = []\n",
        "  for i in range(n):\n",
        "    if i%3 == 0:\n",
        "      lista.append(i)\n",
        "    elif i%5 == 0:\n",
        "      lista.append(i)\n",
        "    else:\n",
        "      pass\n",
        "  return sum(lista)\n",
        "\n",
        "fun(1000)"
      ],
      "metadata": {
        "colab": {
          "base_uri": "https://localhost:8080/"
        },
        "id": "G4xJWZ0LLVRg",
        "outputId": "9bc5e846-5b5f-42eb-f1c0-05ca0c55113f"
      },
      "execution_count": null,
      "outputs": [
        {
          "output_type": "execute_result",
          "data": {
            "text/plain": [
              "233168"
            ]
          },
          "metadata": {},
          "execution_count": 107
        }
      ]
    },
    {
      "cell_type": "code",
      "source": [
        "def fun(n):\n",
        "  lista = []\n",
        "  for i in range(n):\n",
        "    if i%3 == 0:\n",
        "      lista.append(i)\n",
        "    if i%5 == 0:\n",
        "      lista.append(i)\n",
        "  return sum(lista)\n",
        "\n",
        "fun(1000)"
      ],
      "metadata": {
        "colab": {
          "base_uri": "https://localhost:8080/"
        },
        "id": "e6-FqnXEMG-L",
        "outputId": "0fa53e6f-5853-4f33-cbdf-07537ed1bd20"
      },
      "execution_count": null,
      "outputs": [
        {
          "output_type": "execute_result",
          "data": {
            "text/plain": [
              "266333"
            ]
          },
          "metadata": {},
          "execution_count": 112
        }
      ]
    },
    {
      "cell_type": "markdown",
      "source": [
        "*** 17.12.2023***"
      ],
      "metadata": {
        "id": "SRL0cuPCnLtZ"
      }
    },
    {
      "cell_type": "code",
      "source": [
        "# wejście to jakaś lista; POdać sumę parzystycch wartości dodatnich\n",
        "import numpy as np\n",
        "\n",
        "lista = [1, 2, 3, 4, 5, 6, 7, 8, -10, 10]\n",
        "macierz = np.array(lista)\n",
        "\n",
        "suma_elementow = 0\n",
        "for x in lista:\n",
        "  if x % 2 == 0 and x > 0:\n",
        "    suma_elementow += x\n",
        "print(suma_elementow)\n",
        "\n",
        "# Porównanie listy i macierzy\n",
        "# print(lista % 2) #operator modulo nie dziala na listachc\n",
        "print(macierz % 2) #operator dziala na macierzach\n",
        "print(macierz[macierz % 2]) # UWAGA !!! parametry podane do macierzy mowia nam o numerach indeksów pomimo że są to wartości logiczne\n",
        "\n",
        "\n",
        "print(macierz, lista)\n",
        "print(type(macierz), type(lista))\n",
        "\n",
        "def oblicz_sume(X):\n",
        "  '''\n",
        "  Funkcja obliczająca sumę elementów listy, które są parzyste i dodatnie\n",
        "\n",
        "  Parametry:\n",
        "  X (list): Lista liczb (int) podawana jako argument funkcji\n",
        "\n",
        "  Zwraca:\n",
        "  int: sumę wszystkich wartości\n",
        "  '''\n",
        "  print(\"Hej, jestem funkcją dla list\")\n",
        "  suma_elementow = 0\n",
        "  for x in X:\n",
        "    if x % 2 == 0 and x > 0:\n",
        "      suma_elementow += x\n",
        "  return suma_elementow\n",
        "print(oblicz_sume(lista))\n",
        "\n",
        "def oblicz_sume(X):\n",
        "  '''\n",
        "  Funkcja obliczająca sumę elementów macierzy, które są parzyste i dodatnie\n",
        "\n",
        "  Parametry:\n",
        "  X (np.array): Macierz liczb (int) podawana jako argument funkcji\n",
        "\n",
        "  Zwraca:\n",
        "  int: sumę wszystkich wartości\n",
        "  '''\n",
        "  print(\"Hej, jestem funkcją dla macierzy\")\n",
        "  suma_elementow = 0\n",
        "  for x in X:\n",
        "    if x % 2 == 0 and x > 0:\n",
        "      suma_elementow += x\n",
        "  return suma_elementow\n",
        "oblicz_sume(lista)\n",
        "\n",
        "\n"
      ],
      "metadata": {
        "colab": {
          "base_uri": "https://localhost:8080/"
        },
        "id": "8j-t3C_6nTb8",
        "outputId": "ad635105-34c5-4f40-c0e0-be18b1d73a96"
      },
      "execution_count": 18,
      "outputs": [
        {
          "output_type": "stream",
          "name": "stdout",
          "text": [
            "30\n",
            "[1 0 1 0 1 0 1 0 0 0]\n",
            "[2 1 2 1 2 1 2 1 1 1]\n",
            "[  1   2   3   4   5   6   7   8 -10  10] [1, 2, 3, 4, 5, 6, 7, 8, -10, 10]\n",
            "<class 'numpy.ndarray'> <class 'list'>\n",
            "Hej, jestem funkcją dla list\n",
            "30\n",
            "Hej, jestem funkcją dla macierzy\n"
          ]
        },
        {
          "output_type": "execute_result",
          "data": {
            "text/plain": [
              "30"
            ]
          },
          "metadata": {},
          "execution_count": 18
        }
      ]
    },
    {
      "cell_type": "code",
      "source": [
        "#Dwuwymiarowa lista / macierz\n",
        "\n",
        "x_list = [[1,2],[3,4]]\n",
        "x_matrix = np.array(x_list)\n",
        "print(x_list)\n",
        "print(x_matrix)\n",
        "\n",
        "print(x_list[1][1])\n",
        "print(x_matrix[1][1])\n",
        "print(x_matrix[1,1])\n",
        "\n",
        "print(np.dot(x_matrix,x_matrix))# mnożenie macierzowe\n",
        "\n",
        "def mnozenie_macierzowe(m1, m2):\n",
        "  '''\n",
        "  Mnożenie dwóch macierzy reprezentowanych w postaci dwwóch list\n",
        "\n",
        "  Parametry:\n",
        "  m1 (list): pierwsza macierz\n",
        "  m2 (list): druga macierz\n",
        "\n",
        "  Zwraca:\n",
        "  list: wynik mnożenia dwóch macierzy\n",
        "  '''\n",
        "  liczba_wierszy_m1 = len(m1)\n",
        "  liczba_kolumn_m1 = len(m1[0])\n",
        "  liczba_wierszy_m2 = len(m2)\n",
        "  liczba_kolumn_m2 = len(m2[0])\n",
        "\n",
        "  if liczba_kolumn_m1 != liczba_wierszy_m2:\n",
        "    raise ValueError(\"Liczba kolumn m1 oraz wierszy w m2 musi być zgodna (taka sama)\")\n",
        "\n",
        "  result = [[0 for _ in range(liczba_kolumn_m2)] for _ in range(liczba_wierszy_m1)]\n",
        "\n",
        "  for i in range(liczba_wierszy_m1):\n",
        "    for j in range(liczba_kolumn_m2):\n",
        "      for k in range(liczba_kolumn_m1):\n",
        "        result[i][j] += m1[i][k] * m2[k][j]\n",
        "  return result\n",
        "\n",
        "mnozenie_macierzowe(x_list, x_list)\n",
        "mnozenie_macierzowe(x_matrix, x_matrix)"
      ],
      "metadata": {
        "colab": {
          "base_uri": "https://localhost:8080/"
        },
        "id": "F2tRjBKHtI-g",
        "outputId": "270af3f8-c0be-47a5-e405-ac1ff81a1774"
      },
      "execution_count": 36,
      "outputs": [
        {
          "output_type": "stream",
          "name": "stdout",
          "text": [
            "[[1, 2], [3, 4]]\n",
            "[[1 2]\n",
            " [3 4]]\n",
            "4\n",
            "4\n",
            "4\n",
            "[[ 7 10]\n",
            " [15 22]]\n"
          ]
        },
        {
          "output_type": "execute_result",
          "data": {
            "text/plain": [
              "[[7, 10], [15, 22]]"
            ]
          },
          "metadata": {},
          "execution_count": 36
        }
      ]
    },
    {
      "cell_type": "code",
      "source": [
        "def funkcja(n):\n",
        "  '''\n",
        "  Funkcja tworzy listę dwuwymiarową która jest wymiarowości nxn jest wypełniona samymi zerami a dookoła ma ramkję z 1\n",
        "\n",
        "  Parametry:\n",
        "  n (int): wymiarowość kwadratowej listy dwuwymiarowej nxn\n",
        "\n",
        "  Zwraca:\n",
        "  list: Wygenerowana lista dwuwymiarowa\n",
        "  '''\n",
        "\n",
        "  result = [[0 for _ in range(n)] for _ in range(n)]\n",
        "  for i in range(n):\n",
        "    for j in range(n):\n",
        "      if i == 0 or i == n-1 or j == 0 or j == n-1:\n",
        "        result[i][j] = 1\n",
        "\n",
        "  return result\n",
        "\n",
        "def funkcja1(x, a):\n",
        "  '''\n",
        "  Funkcja dodająca nowy wiersz do listy x (list) składający się z wartości a (int/float)\n",
        "\n",
        "  Parametry:\n",
        "  x (list): lista do modyfikacji\n",
        "  a (int/float): wartość w nowym wierszu\n",
        "\n",
        "  Zwraca:\n",
        "  None: nic nie zwraca ale modyfikuje dwuwymiarowa liste wejsciowa\n",
        "  '''\n",
        "  nowy_wiersz = [a] * len(x[0])\n",
        "  a += 1\n",
        "  # print(nowy_wiersz)\n",
        "  # x.append(nowy_wiersz)\n",
        "  # print(x)\n",
        "  return x.append(nowy_wiersz)\n",
        "\n",
        "par = 10\n",
        "d = funkcja(5)\n",
        "print(np.array(d))\n",
        "print((funkcja1(d, par)))\n",
        "print(np.array(d))\n",
        "print(par)\n",
        "\n",
        "# [1] * 20\n",
        "# np.array([1]) * 20\n",
        "\n",
        "def funkcja2(x, a):\n",
        "  '''\n",
        "  Funkcja dodająca nowy wiersz do listy x (list) składający się z wartości a (int/float)\n",
        "\n",
        "  Parametry:\n",
        "  x (list): lista do modyfikacji\n",
        "  a (int/float): wartość w nowym wierszu\n",
        "\n",
        "  Zwraca:\n",
        "  list: lista z nowym wierszem\n",
        "  '''\n",
        "  nowy_wiersz = [a] * len(x[0])\n",
        "  tmp = x.copy()\n",
        "  tmp.append(nowy_wiersz)\n",
        "  return tmp\n",
        "\n",
        "p = funkcja(3)\n",
        "funkcja2(p, 13)\n",
        "print(p)\n",
        "\n",
        "def funkcja3(x,a):\n",
        "  '''\n",
        "  Funkcja dodająaca nową kolumnę do listy x (list) składającą się z wartości a (int/float)\n",
        "\n",
        "  Parametry:\n",
        "  x (list): lista do modyfikacji\n",
        "  a (int/float): wartość w nowym wierszu\n",
        "\n",
        "  Zwraca:\n",
        "  list: lista z nowym wierszem\n",
        "  '''\n",
        "  tmp = x.copy()\n",
        "  for row in tmp:\n",
        "    row.append(a)\n",
        "  return tmp\n",
        "\n",
        "p = funkcja(3)\n",
        "np.array(funkcja3(p, 13))\n",
        "\n",
        "def funkcja4(x,a):\n",
        "  '''\n",
        "  Funkcja dodająca nową kolumnę do listy x (list) składającą się z wartości a (int/float) - jako pierwszą kolumnę\n",
        "\n",
        "  Parametry:\n",
        "  x (list): lista do modyfikacji\n",
        "  a (int/float): wartość w nowym wierszu\n",
        "\n",
        "  Zwraca:\n",
        "  list: lista z nowym wierszem\n",
        "  '''\n",
        "  tmp = x.copy()\n",
        "  for row in tmp:\n",
        "    row.insert(0, a)\n",
        "  return tmp\n",
        "\n",
        "p = funkcja(3)\n",
        "np.array(funkcja2(funkcja3(funkcja4(p, 13),13),13))"
      ],
      "metadata": {
        "colab": {
          "base_uri": "https://localhost:8080/"
        },
        "id": "LsfOBClL021S",
        "outputId": "eb295383-51ed-46c7-a614-ae69baf8b3aa"
      },
      "execution_count": 72,
      "outputs": [
        {
          "output_type": "stream",
          "name": "stdout",
          "text": [
            "[[1 1 1 1 1]\n",
            " [1 0 0 0 1]\n",
            " [1 0 0 0 1]\n",
            " [1 0 0 0 1]\n",
            " [1 1 1 1 1]]\n",
            "None\n",
            "[[ 1  1  1  1  1]\n",
            " [ 1  0  0  0  1]\n",
            " [ 1  0  0  0  1]\n",
            " [ 1  0  0  0  1]\n",
            " [ 1  1  1  1  1]\n",
            " [10 10 10 10 10]]\n",
            "10\n",
            "[[1, 1, 1], [1, 0, 1], [1, 1, 1]]\n"
          ]
        },
        {
          "output_type": "execute_result",
          "data": {
            "text/plain": [
              "array([[13,  1,  1,  1, 13],\n",
              "       [13,  1,  0,  1, 13],\n",
              "       [13,  1,  1,  1, 13],\n",
              "       [13, 13, 13, 13, 13]])"
            ]
          },
          "metadata": {},
          "execution_count": 72
        }
      ]
    },
    {
      "cell_type": "code",
      "source": [
        "print([1] * 5) # lista\n",
        "print(np.array([1]) * 5) # macierz\n",
        "\n",
        "lista1 = [1,2,3]\n",
        "lista2 = [4,5,6]\n",
        "print(lista1 + lista2) # + oznacza tutaj operację konkatenacji dwóch list\n",
        "print(np.array(lista1) + np.array(lista2))\n",
        "\n",
        "suma_dwoch_list = [x+y for x, y in zip(lista1, lista2)]"
      ],
      "metadata": {
        "colab": {
          "base_uri": "https://localhost:8080/"
        },
        "id": "ZK2O201H9FUw",
        "outputId": "c800902c-eab4-4f24-a549-93b8f78da781"
      },
      "execution_count": 78,
      "outputs": [
        {
          "output_type": "stream",
          "name": "stdout",
          "text": [
            "[1, 1, 1, 1, 1]\n",
            "[5]\n",
            "[1, 2, 3, 4, 5, 6]\n",
            "[5 7 9]\n"
          ]
        }
      ]
    },
    {
      "cell_type": "code",
      "source": [
        "def fun(n):\n",
        "  '''\n",
        "  Funkcja tworzy listę dwuwymiarową która jest wymiarowości nxn jest wypełniona samymi zerami a na obu przekątnych mamy wartość 1\n",
        "\n",
        "  Parametry:\n",
        "  n (int): wymiarowość kwadratowej listy dwuwymiarowej nxn\n",
        "\n",
        "  Zwraca:\n",
        "  list: Wygenerowana lista dwuwymiarowa\n",
        "  '''\n",
        "  # dla n<=0  raise()\n",
        "  # n powinno dzialac tylko dla int raise\n",
        "  if not isinstance(n, int) or n <= 0:\n",
        "    raise ValueError(\"Wartość n musi być dodatnim int'em\")\n",
        "\n",
        "  result = [[0 for _ in range(n)] for _ in range(n)]\n",
        "\n",
        "  for i in range(n):\n",
        "    result[i][i] = 1\n",
        "    result[i][n-1-i] = 1\n",
        "\n",
        "  return result\n",
        "\n",
        "fun(18)\n"
      ],
      "metadata": {
        "colab": {
          "base_uri": "https://localhost:8080/"
        },
        "id": "2kvUdimL_B1M",
        "outputId": "06c5ddf5-686c-4b35-f1ba-82d937db3b6d"
      },
      "execution_count": 83,
      "outputs": [
        {
          "output_type": "execute_result",
          "data": {
            "text/plain": [
              "[[1, 0, 0, 0, 0, 0, 0, 0, 0, 0, 0, 0, 0, 0, 0, 0, 0, 1],\n",
              " [0, 1, 0, 0, 0, 0, 0, 0, 0, 0, 0, 0, 0, 0, 0, 0, 1, 0],\n",
              " [0, 0, 1, 0, 0, 0, 0, 0, 0, 0, 0, 0, 0, 0, 0, 1, 0, 0],\n",
              " [0, 0, 0, 1, 0, 0, 0, 0, 0, 0, 0, 0, 0, 0, 1, 0, 0, 0],\n",
              " [0, 0, 0, 0, 1, 0, 0, 0, 0, 0, 0, 0, 0, 1, 0, 0, 0, 0],\n",
              " [0, 0, 0, 0, 0, 1, 0, 0, 0, 0, 0, 0, 1, 0, 0, 0, 0, 0],\n",
              " [0, 0, 0, 0, 0, 0, 1, 0, 0, 0, 0, 1, 0, 0, 0, 0, 0, 0],\n",
              " [0, 0, 0, 0, 0, 0, 0, 1, 0, 0, 1, 0, 0, 0, 0, 0, 0, 0],\n",
              " [0, 0, 0, 0, 0, 0, 0, 0, 1, 1, 0, 0, 0, 0, 0, 0, 0, 0],\n",
              " [0, 0, 0, 0, 0, 0, 0, 0, 1, 1, 0, 0, 0, 0, 0, 0, 0, 0],\n",
              " [0, 0, 0, 0, 0, 0, 0, 1, 0, 0, 1, 0, 0, 0, 0, 0, 0, 0],\n",
              " [0, 0, 0, 0, 0, 0, 1, 0, 0, 0, 0, 1, 0, 0, 0, 0, 0, 0],\n",
              " [0, 0, 0, 0, 0, 1, 0, 0, 0, 0, 0, 0, 1, 0, 0, 0, 0, 0],\n",
              " [0, 0, 0, 0, 1, 0, 0, 0, 0, 0, 0, 0, 0, 1, 0, 0, 0, 0],\n",
              " [0, 0, 0, 1, 0, 0, 0, 0, 0, 0, 0, 0, 0, 0, 1, 0, 0, 0],\n",
              " [0, 0, 1, 0, 0, 0, 0, 0, 0, 0, 0, 0, 0, 0, 0, 1, 0, 0],\n",
              " [0, 1, 0, 0, 0, 0, 0, 0, 0, 0, 0, 0, 0, 0, 0, 0, 1, 0],\n",
              " [1, 0, 0, 0, 0, 0, 0, 0, 0, 0, 0, 0, 0, 0, 0, 0, 0, 1]]"
            ]
          },
          "metadata": {},
          "execution_count": 83
        }
      ]
    },
    {
      "cell_type": "markdown",
      "source": [
        "2024-01-13 13:30-18:40 Wykład - powtórka do Egzaminu (przykładowe pytania itp itd)"
      ],
      "metadata": {
        "id": "g4sp9oYw-onN"
      }
    }
  ]
}